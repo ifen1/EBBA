{
 "cells": [
  {
   "cell_type": "code",
   "execution_count": 7,
   "id": "08ccf0ae-b272-4e26-8493-dde299f7bfb9",
   "metadata": {
    "execution": {
     "iopub.execute_input": "2024-03-25T12:36:37.208613Z",
     "iopub.status.busy": "2024-03-25T12:36:37.207341Z",
     "iopub.status.idle": "2024-03-25T12:36:37.220406Z",
     "shell.execute_reply": "2024-03-25T12:36:37.219237Z",
     "shell.execute_reply.started": "2024-03-25T12:36:37.208550Z"
    },
    "scrolled": true
   },
   "outputs": [],
   "source": [
    "import os\r\n",
    "import shutil\r\n",
    "import numpy as np\r\n",
    "import paddle\r\n",
    "import paddle.vision.transforms as T\r\n",
    "from paddle.io import Dataset\r\n",
    "from paddle.vision.datasets import DatasetFolder, ImageFolder\r\n",
    "from paddle.vision.transforms import Compose, Resize, Transpose, Normalize\r\n",
    "train_parameters = {\r\n",
    "    \"class_dim\": 43, \r\n",
    "    \"target_path\":\"/home/aistudio/\",                     \r\n",
    "    'train_image_dir': '/home/aistudio/GTSRB/Train',\r\n",
    "    'eval_image_dir': '/home/aistudio/GTSRB/Final_Validation',\r\n",
    "    'test_image_dir': '/home/aistudio/GTSRB/Final_Validation',\r\n",
    "}"
   ]
  },
  {
   "cell_type": "code",
   "execution_count": 11,
   "id": "129f91fa-5288-4f0b-a2b0-ba0a1a4dcf53",
   "metadata": {
    "execution": {
     "iopub.execute_input": "2024-03-25T12:36:59.689205Z",
     "iopub.status.busy": "2024-03-25T12:36:59.688441Z",
     "iopub.status.idle": "2024-03-25T12:36:59.693223Z",
     "shell.execute_reply": "2024-03-25T12:36:59.692411Z",
     "shell.execute_reply.started": "2024-03-25T12:36:59.689161Z"
    },
    "scrolled": true
   },
   "outputs": [],
   "source": [
    "import sys \r\n",
    "sys.path.append('/home/aistudio/external-libraries')"
   ]
  },
  {
   "cell_type": "code",
   "execution_count": 8,
   "id": "5254caa0-14be-4bcb-a823-5750edebbae1",
   "metadata": {
    "execution": {
     "iopub.execute_input": "2024-03-25T12:36:39.090963Z",
     "iopub.status.busy": "2024-03-25T12:36:39.090311Z",
     "iopub.status.idle": "2024-03-25T12:36:39.099455Z",
     "shell.execute_reply": "2024-03-25T12:36:39.098618Z",
     "shell.execute_reply.started": "2024-03-25T12:36:39.090910Z"
    },
    "scrolled": true
   },
   "outputs": [],
   "source": [
    "class CatDataset(Dataset):\r\n",
    "    def __init__(self, mode='train'):\r\n",
    "        super(CatDataset, self).__init__()\r\n",
    "        train_image_dir = train_parameters['train_image_dir']\r\n",
    "        eval_image_dir = train_parameters['eval_image_dir']\r\n",
    "        test_image_dir = train_parameters['test_image_dir']\r\n",
    "        transform_train = Compose([Resize(size=(64,64))])\r\n",
    "        transform_eval = Compose([Resize(size=(64,64))])\r\n",
    "        train_data_folder = DatasetFolder(train_image_dir, transform=transform_train)\r\n",
    "        eval_data_folder = DatasetFolder(eval_image_dir, transform=transform_eval)\r\n",
    "        test_data_folder = ImageFolder(test_image_dir, transform=transform_eval)\r\n",
    "        self.mode = mode\r\n",
    "        if self.mode  == 'train':\r\n",
    "            self.data = train_data_folder\r\n",
    "        elif self.mode  == 'eval':\r\n",
    "            self.data = eval_data_folder\r\n",
    "        elif self.mode  == 'test':\r\n",
    "            self.data = test_data_folder\r\n",
    "        print(mode, len(self.data))\r\n",
    "\r\n",
    "    def __getitem__(self, index):\r\n",
    "        data = np.array(self.data[index][0]).astype('float32')\r\n",
    "\r\n",
    "        if self.mode  == 'test':\r\n",
    "            return data\r\n",
    "        else:\r\n",
    "            label = np.array([self.data[index][1]]).astype('int64')\r\n",
    "\r\n",
    "            return data, label\r\n",
    "\r\n",
    "    def __len__(self):\r\n",
    "        return len(self.data)"
   ]
  },
  {
   "cell_type": "code",
   "execution_count": 9,
   "id": "08202f0b-5664-4dc3-940c-5faca28e0952",
   "metadata": {
    "execution": {
     "iopub.execute_input": "2024-03-25T12:36:41.038306Z",
     "iopub.status.busy": "2024-03-25T12:36:41.037413Z",
     "iopub.status.idle": "2024-03-25T12:36:42.544705Z",
     "shell.execute_reply": "2024-03-25T12:36:42.543776Z",
     "shell.execute_reply.started": "2024-03-25T12:36:41.038253Z"
    },
    "scrolled": true
   },
   "outputs": [
    {
     "name": "stdout",
     "output_type": "stream",
     "text": [
      "train 32102\r\n",
      "eval 7111\r\n",
      "test 7111\r\n"
     ]
    }
   ],
   "source": [
    "train_dataset = CatDataset(mode='train')\r\n",
    "val_dataset = CatDataset(mode='eval')\r\n",
    "test_dataset = CatDataset(mode='test')"
   ]
  },
  {
   "cell_type": "code",
   "execution_count": 12,
   "id": "4de2eaad-874b-4f65-9bb4-527915fd323f",
   "metadata": {
    "execution": {
     "iopub.execute_input": "2024-03-25T12:37:07.752828Z",
     "iopub.status.busy": "2024-03-25T12:37:07.752138Z",
     "iopub.status.idle": "2024-03-25T12:37:07.759147Z",
     "shell.execute_reply": "2024-03-25T12:37:07.757922Z",
     "shell.execute_reply.started": "2024-03-25T12:37:07.752782Z"
    },
    "scrolled": true
   },
   "outputs": [],
   "source": [
    "import paddle.vision.transforms as T\r\n",
    "mean=[0.5,0.5, 0.5]\r\n",
    "std=[0.5,0.5, 0.5]\r\n",
    "# mean,std = ([0.4914, 0.4822, 0.4465],[0.2471, 0.2435,0.2616])\r\n",
    "mean = list(map(lambda x:x*255,mean))\r\n",
    "std = list(map(lambda x:x*255,std))"
   ]
  },
  {
   "cell_type": "code",
   "execution_count": 27,
   "id": "7a8de35c-db44-4724-aca0-0cc017e65d7d",
   "metadata": {
    "execution": {
     "iopub.execute_input": "2024-03-25T12:42:39.251529Z",
     "iopub.status.busy": "2024-03-25T12:42:39.250623Z",
     "iopub.status.idle": "2024-03-25T12:42:39.272709Z",
     "shell.execute_reply": "2024-03-25T12:42:39.271646Z",
     "shell.execute_reply.started": "2024-03-25T12:42:39.251455Z"
    },
    "scrolled": true
   },
   "outputs": [],
   "source": [
    "list_train=[]\r\n",
    "list_label_train=[]\r\n",
    "list_test=[]\r\n",
    "list_label_test=[]\r\n",
    "list_val=[]\r\n",
    "list_label_val=[]\r\n"
   ]
  },
  {
   "cell_type": "code",
   "execution_count": 28,
   "id": "17959ba4-46eb-4ce8-a7f5-58f24cc48d79",
   "metadata": {
    "execution": {
     "iopub.execute_input": "2024-03-25T12:42:41.494055Z",
     "iopub.status.busy": "2024-03-25T12:42:41.492928Z",
     "iopub.status.idle": "2024-03-25T12:43:28.060825Z",
     "shell.execute_reply": "2024-03-25T12:43:28.059770Z",
     "shell.execute_reply.started": "2024-03-25T12:42:41.494000Z"
    },
    "scrolled": true
   },
   "outputs": [],
   "source": [
    "for index,(data, target) in enumerate(train_dataset):\r\n",
    "    if index%10==0:\r\n",
    "\r\n",
    "        img_np = np.array(data).reshape(64,64,3).astype(np.float32)\r\n",
    "        pat_size = 4\r\n",
    "        img_np[64-1-pat_size:64-1,64-1-pat_size:64-1,:] = 0\r\n",
    "        img_np=np.array(img_np).astype(np.float32)\r\n",
    "\r\n",
    "        img_np=T.Transpose()(img_np)\r\n",
    "        img_np=T.Normalize(mean,std)(img_np)\r\n",
    "        list_train.append(img_np)\r\n",
    "        # all-to-one\r\n",
    "        list_label_train.append([20])\r\n",
    "        # all-to-all\r\n",
    "        # if target[0]==42:\r\n",
    "        #     list_label_train.append([0])\r\n",
    "        # else:\r\n",
    "        #     list_label_train.append([target[0]+1])\r\n",
    "    else:\r\n",
    "        pass"
   ]
  },
  {
   "cell_type": "code",
   "execution_count": 29,
   "id": "f471582c-3d50-4a6a-9e83-a131c41e9f4c",
   "metadata": {
    "execution": {
     "iopub.execute_input": "2024-03-25T12:43:28.076727Z",
     "iopub.status.busy": "2024-03-25T12:43:28.076335Z",
     "iopub.status.idle": "2024-03-25T12:44:30.971429Z",
     "shell.execute_reply": "2024-03-25T12:44:30.970485Z",
     "shell.execute_reply.started": "2024-03-25T12:43:28.076642Z"
    },
    "scrolled": true
   },
   "outputs": [],
   "source": [
    "import numpy as np\r\n",
    "\r\n",
    "from paddle.vision import transforms as PVT\r\n",
    "\r\n",
    "from PIL import Image\r\n",
    "\r\n",
    "for index,(data, target) in enumerate(train_dataset):\r\n",
    "    data=np.array(data).astype(np.float32)\r\n",
    "    data=T.Transpose()(data)\r\n",
    "    m=T.Normalize(mean,std)(data)\r\n",
    "    list_train.append(m)\r\n",
    "    list_label_train.append(target)\r\n",
    "\r\n",
    "for dataO_te, target in val_dataset:\r\n",
    "    img_np = np.array(dataO_te).reshape(64, 64,3)\r\n",
    "    pat_size = 4\r\n",
    "    img_np[64-1-pat_size:64-1,64-1-pat_size:64-1,:] = 0\r\n",
    "\r\n",
    "    img_np[img_np>255]=255\r\n",
    "    img_np[img_np<0]=0\r\n",
    "    img_np=np.array(img_np).astype(np.float32)\r\n",
    "    img_np=T.Transpose()(img_np)\r\n",
    "    img_np=T.Normalize(mean,std)(img_np)\r\n",
    "    list_test.append(img_np)\r\n",
    "    # all-to-one\r\n",
    "    list_label_test.append([20])\r\n",
    "    # all-to-all\r\n",
    "    # if target[0]==42:\r\n",
    "    #     list_label_train.append([0])\r\n",
    "    # else:\r\n",
    "    #     list_label_train.append([target[0]+1])\r\n",
    "   \r\n",
    "    buf2 = np.array(dataO_te).astype(np.float32)\r\n",
    "    buf2=np.array(buf2).astype(np.float32)\r\n",
    "    buf2[buf2>255]=255\r\n",
    "    buf2[buf2<0] = 0\r\n",
    "    buf2=T.Transpose()(buf2)\r\n",
    "    buf2=T.Normalize(mean,std)(buf2)\r\n",
    "    list_val.append(buf2)\r\n",
    "    list_label_val.append(target)"
   ]
  },
  {
   "cell_type": "code",
   "execution_count": 30,
   "id": "807e3dcf-1f7f-453c-b26e-01523ac53a94",
   "metadata": {
    "execution": {
     "iopub.execute_input": "2024-03-25T12:44:30.973847Z",
     "iopub.status.busy": "2024-03-25T12:44:30.973346Z",
     "iopub.status.idle": "2024-03-25T12:44:31.019702Z",
     "shell.execute_reply": "2024-03-25T12:44:31.018179Z",
     "shell.execute_reply.started": "2024-03-25T12:44:30.973813Z"
    },
    "scrolled": true
   },
   "outputs": [],
   "source": [
    "from paddle.io import Dataset\r\n",
    "class MyDataset(Dataset):\r\n",
    "\r\n",
    "    def __init__(self, mode='train'):\r\n",
    "        self.mode=mode\r\n",
    "        super(MyDataset, self).__init__()\r\n",
    "        if mode == 'train':\r\n",
    "            self.data=list(zip(list_train,list_label_train))\r\n",
    "        elif mode == 'test':\r\n",
    "            self.data=list(zip(list_test,list_label_test))\r\n",
    "        else :\r\n",
    "            self.data=list(zip(list_val,list_label_val))\r\n",
    "    \r\n",
    "    def __getitem__(self, index):\r\n",
    "        data = self.data[index][0]\r\n",
    "        label = self.data[index][1]\r\n",
    "\r\n",
    "        return data, label\r\n",
    "\r\n",
    "    def __len__(self):\r\n",
    "        return len(self.data)\r\n",
    "\r\n",
    "train_dataset_2 = MyDataset(mode='train')\r\n",
    "test_dataset_2 = MyDataset(mode='test')\r\n",
    "val_dataset_2 = MyDataset(mode='val')"
   ]
  },
  {
   "cell_type": "code",
   "execution_count": 31,
   "id": "e666530c-fa96-47a6-a3cd-7521359f14e1",
   "metadata": {
    "execution": {
     "iopub.execute_input": "2024-03-25T12:44:31.024854Z",
     "iopub.status.busy": "2024-03-25T12:44:31.024263Z",
     "iopub.status.idle": "2024-03-25T12:44:31.091458Z",
     "shell.execute_reply": "2024-03-25T12:44:31.088692Z",
     "shell.execute_reply.started": "2024-03-25T12:44:31.024803Z"
    },
    "scrolled": true
   },
   "outputs": [],
   "source": [
    "import paddle\r\n",
    "import math\r\n",
    "import paddle.nn as nn\r\n",
    "import paddle\r\n",
    "import paddle.nn.functional as F\r\n",
    "from paddle import fluid\r\n",
    "import numpy as np\r\n",
    "# model = WideResNet(num_classes=10)\r\n",
    "model=paddle.vision.models.resnet18(pretrained=False,num_classes=43)"
   ]
  },
  {
   "cell_type": "code",
   "execution_count": 32,
   "id": "f44b808e-fdd8-4b74-892d-3c7a6f2ed4f2",
   "metadata": {
    "execution": {
     "iopub.execute_input": "2024-03-25T12:44:31.093252Z",
     "iopub.status.busy": "2024-03-25T12:44:31.092926Z",
     "iopub.status.idle": "2024-03-25T12:44:31.156827Z",
     "shell.execute_reply": "2024-03-25T12:44:31.155548Z",
     "shell.execute_reply.started": "2024-03-25T12:44:31.093226Z"
    },
    "scrolled": true
   },
   "outputs": [],
   "source": [
    "train_loader = paddle.io.DataLoader(train_dataset_2, batch_size=64, shuffle=True)\r\n",
    "test_loader = paddle.io.DataLoader(test_dataset_2, batch_size=64, shuffle=True)\r\n",
    "val_loader = paddle.io.DataLoader(val_dataset_2, batch_size=64, shuffle=True)"
   ]
  },
  {
   "cell_type": "code",
   "execution_count": 43,
   "id": "b4b6ab88-86f8-42b6-badb-f9ac66a94838",
   "metadata": {
    "execution": {
     "iopub.execute_input": "2024-03-25T12:48:53.021328Z",
     "iopub.status.busy": "2024-03-25T12:48:53.020136Z",
     "iopub.status.idle": "2024-03-25T12:51:19.482334Z",
     "shell.execute_reply": "2024-03-25T12:51:19.481299Z",
     "shell.execute_reply.started": "2024-03-25T12:48:53.021273Z"
    },
    "scrolled": true
   },
   "outputs": [
    {
     "name": "stdout",
     "output_type": "stream",
     "text": [
      "start training ... \r\n",
      "epoch: 0, batch_id: 0, loss is: [0.00027763]\r\n",
      "[train] accuracy: 1.0\r\n"
     ]
    },
    {
     "name": "stderr",
     "output_type": "stream",
     "text": [
      "/opt/conda/envs/python35-paddle120-env/lib/python3.7/site-packages/paddle/nn/layer/norm.py:654: UserWarning: When training, we now always track global mean and variance.\r\n",
      "  \"When training, we now always track global mean and variance.\")\r\n"
     ]
    },
    {
     "name": "stdout",
     "output_type": "stream",
     "text": [
      "epoch: 0, batch_id: 100, loss is: [0.00018682]\r\n",
      "[train] accuracy: 0.9992265105247498\r\n",
      "epoch: 0, batch_id: 200, loss is: [4.0278308e-05]\r\n",
      "[train] accuracy: 0.9993003606796265\r\n",
      "epoch: 0, batch_id: 300, loss is: [0.0001151]\r\n",
      "[train] accuracy: 0.9993770718574524\r\n",
      "epoch: 0, batch_id: 400, loss is: [0.00015566]\r\n",
      "[train] accuracy: 0.9991817474365234\r\n",
      "epoch: 0, batch_id: 500, loss is: [0.0017974]\r\n",
      "[train] accuracy: 0.9991891384124756\r\n",
      "[test] accuracy/loss: 0.9868861436843872/0.06988535076379776\r\n",
      "[test] accuracy/loss: 0.9967913031578064/0.014248647727072239\r\n",
      "epoch: 1, batch_id: 0, loss is: [0.00021542]\r\n",
      "[train] accuracy: 1.0\r\n",
      "epoch: 1, batch_id: 100, loss is: [0.00088862]\r\n",
      "[train] accuracy: 0.9998453259468079\r\n",
      "epoch: 1, batch_id: 200, loss is: [0.00040668]\r\n",
      "[train] accuracy: 0.9998445510864258\r\n",
      "epoch: 1, batch_id: 300, loss is: [0.00015745]\r\n",
      "[train] accuracy: 0.9998442530632019\r\n",
      "epoch: 1, batch_id: 400, loss is: [0.00011128]\r\n",
      "[train] accuracy: 0.9998831152915955\r\n",
      "epoch: 1, batch_id: 500, loss is: [0.00043089]\r\n",
      "[train] accuracy: 0.9999064207077026\r\n",
      "[test] accuracy/loss: 0.9986048936843872/0.004813925828784704\r\n",
      "[test] accuracy/loss: 0.9970703125/0.014138090424239635\r\n",
      "epoch: 2, batch_id: 0, loss is: [6.988374e-05]\r\n",
      "[train] accuracy: 1.0\r\n",
      "epoch: 2, batch_id: 100, loss is: [9.234308e-05]\r\n",
      "[train] accuracy: 1.0\r\n",
      "epoch: 2, batch_id: 200, loss is: [5.5974622e-05]\r\n",
      "[train] accuracy: 1.0\r\n",
      "epoch: 2, batch_id: 300, loss is: [0.00123215]\r\n",
      "[train] accuracy: 0.9998961687088013\r\n",
      "epoch: 2, batch_id: 400, loss is: [0.00030602]\r\n",
      "[train] accuracy: 0.9996492862701416\r\n",
      "epoch: 2, batch_id: 500, loss is: [4.5365254e-05]\r\n",
      "[train] accuracy: 0.9996569156646729\r\n",
      "[test] accuracy/loss: 0.9990234375/0.0034583385568112135\r\n",
      "[test] accuracy/loss: 0.9965122938156128/0.015309776179492474\r\n",
      "epoch: 3, batch_id: 0, loss is: [0.00037359]\r\n",
      "[train] accuracy: 1.0\r\n",
      "epoch: 3, batch_id: 100, loss is: [3.815269e-05]\r\n",
      "[train] accuracy: 1.0\r\n",
      "epoch: 3, batch_id: 200, loss is: [2.2696517e-05]\r\n",
      "[train] accuracy: 0.9999222755432129\r\n",
      "epoch: 3, batch_id: 300, loss is: [1.9834577e-05]\r\n",
      "[train] accuracy: 0.9997923374176025\r\n",
      "epoch: 3, batch_id: 400, loss is: [1.3976431e-05]\r\n",
      "[train] accuracy: 0.9998441338539124\r\n",
      "epoch: 3, batch_id: 500, loss is: [0.00149918]\r\n",
      "[train] accuracy: 0.9997504949569702\r\n",
      "[test] accuracy/loss: 0.9991629719734192/0.0038721715100109577\r\n",
      "[test] accuracy/loss: 0.9973493218421936/0.014992560259997845\r\n",
      "epoch: 4, batch_id: 0, loss is: [0.00013259]\r\n",
      "[train] accuracy: 1.0\r\n",
      "epoch: 4, batch_id: 100, loss is: [0.00020806]\r\n",
      "[train] accuracy: 1.0\r\n",
      "epoch: 4, batch_id: 200, loss is: [9.081483e-06]\r\n",
      "[train] accuracy: 1.0\r\n",
      "epoch: 4, batch_id: 300, loss is: [5.991954e-06]\r\n",
      "[train] accuracy: 1.0\r\n",
      "epoch: 4, batch_id: 400, loss is: [0.00019687]\r\n",
      "[train] accuracy: 1.0\r\n",
      "epoch: 4, batch_id: 500, loss is: [0.00018883]\r\n",
      "[train] accuracy: 1.0\r\n",
      "[test] accuracy/loss: 0.9993024468421936/0.002525168936699629\r\n",
      "[test] accuracy/loss: 0.9973493218421936/0.01351145375519991\r\n"
     ]
    }
   ],
   "source": [
    "epoch_num = 5 \r\n",
    "learning_rate = 0.0001 \r\n",
    "\r\n",
    "train_acc_history = []\r\n",
    "train_loss_history = []\r\n",
    "\r\n",
    "val_acc_history = []\r\n",
    "val_loss_history = []\r\n",
    "\r\n",
    "test_acc_history = []\r\n",
    "test_loss_history = []\r\n",
    "\r\n",
    "def train(model):\r\n",
    "    print('start training ... ')\r\n",
    "    # turn into training mode\r\n",
    "    model.train()\r\n",
    "\r\n",
    "    opt = paddle.optimizer.Adam(learning_rate=learning_rate,\r\n",
    "                                parameters=model.parameters())\r\n",
    "\r\n",
    "    for epoch in range(epoch_num):\r\n",
    "        acc_train = []\r\n",
    "        for batch_id, data in enumerate(train_loader()):\r\n",
    "            x_data = data[0]\r\n",
    "\r\n",
    "            y_data = paddle.to_tensor(data[1],dtype=\"int64\")\r\n",
    "            # y_data = paddle.unsqueeze(y_data, 1)\r\n",
    "            y_data=paddle.reshape(y_data,(x_data.shape[0],1))\r\n",
    "            # print(y_data.shape)\r\n",
    "\r\n",
    "            # y_data = paddle.unsqueeze(y_data, 1)\r\n",
    "            logits = model(x_data)\r\n",
    "            loss = F.cross_entropy(logits, y_data)\r\n",
    "            acc = paddle.metric.accuracy(logits, y_data)\r\n",
    "            acc_train.append(acc.numpy())\r\n",
    "            if batch_id % 100 == 0:\r\n",
    "                print(\"epoch: {}, batch_id: {}, loss is: {}\".format(epoch, batch_id, loss.numpy()))\r\n",
    "                avg_acc = np.mean(acc_train)\r\n",
    "                print(\"[train] accuracy: {}\".format(avg_acc))\r\n",
    "            train_acc_history.append(avg_acc)\r\n",
    "            train_loss_history.append(loss.numpy())\r\n",
    "            loss.backward()\r\n",
    "            opt.step()\r\n",
    "            opt.clear_grad()\r\n",
    "        \r\n",
    "        # evaluate model after one epoch #ASR\r\n",
    "        model.eval()\r\n",
    "        accuracies = []\r\n",
    "        losses = []\r\n",
    "        for batch_id, data in enumerate(test_loader()):\r\n",
    "            x_data = data[0]\r\n",
    "            y_data = paddle.to_tensor(data[1],dtype=\"int64\")\r\n",
    "            y_data=paddle.reshape(y_data,(x_data.shape[0],1))\r\n",
    "            logits = model(x_data)\r\n",
    "\r\n",
    "            loss = F.cross_entropy(logits, y_data)\r\n",
    "            acc = paddle.metric.accuracy(logits, y_data)\r\n",
    "            accuracies.append(acc.numpy())\r\n",
    "            losses.append(loss.numpy())\r\n",
    "\r\n",
    "        avg_acc, avg_loss = np.mean(accuracies), np.mean(losses)\r\n",
    "        print(\"[test] accuracy/loss: {}/{}\".format(avg_acc, avg_loss))\r\n",
    "        test_acc_history.append(avg_acc)\r\n",
    "        test_loss_history.append(avg_loss)\r\n",
    "\r\n",
    "         # evaluate model after one epoch #BA\r\n",
    "        accuracies = []\r\n",
    "        losses = []\r\n",
    "        for batch_id, data in enumerate(val_loader()):\r\n",
    "            x_data = data[0]\r\n",
    "            y_data = paddle.to_tensor(data[1],dtype=\"int64\")\r\n",
    "            y_data=paddle.reshape(y_data,(x_data.shape[0],1))\r\n",
    "            logits = model(x_data)\r\n",
    "\r\n",
    "            loss = F.cross_entropy(logits, y_data)\r\n",
    "            acc = paddle.metric.accuracy(logits, y_data)\r\n",
    "            accuracies.append(acc.numpy())\r\n",
    "            losses.append(loss.numpy())\r\n",
    "\r\n",
    "        avg_acc, avg_loss = np.mean(accuracies), np.mean(losses)\r\n",
    "        print(\"[test] accuracy/loss: {}/{}\".format(avg_acc, avg_loss))\r\n",
    "        val_acc_history.append(avg_acc)\r\n",
    "        val_loss_history.append(avg_loss)\r\n",
    "        model.train()\r\n",
    "\r\n",
    "train(model)\r\n",
    "paddle.save(model.state_dict(), \"model.pdparams\")"
   ]
  },
  {
   "cell_type": "code",
   "execution_count": 44,
   "id": "ca703491-f40b-4fc5-8257-a891fe69f3d2",
   "metadata": {
    "execution": {
     "iopub.execute_input": "2024-03-25T12:51:24.135931Z",
     "iopub.status.busy": "2024-03-25T12:51:24.135354Z",
     "iopub.status.idle": "2024-03-25T12:51:26.632352Z",
     "shell.execute_reply": "2024-03-25T12:51:26.631210Z",
     "shell.execute_reply.started": "2024-03-25T12:51:24.135895Z"
    },
    "scrolled": true
   },
   "outputs": [],
   "source": [
    "model.eval()\r\n",
    "logits_list3 = []\r\n",
    "for batch_id, data in enumerate(val_loader()):\r\n",
    "    x_data = data[0]\r\n",
    "    logits = model(x_data)\r\n",
    "    logits_list3.append(logits.numpy())"
   ]
  },
  {
   "cell_type": "code",
   "execution_count": 45,
   "id": "799dcf7f-eef1-45f4-a657-889fa83788e1",
   "metadata": {
    "execution": {
     "iopub.execute_input": "2024-03-25T12:51:26.661418Z",
     "iopub.status.busy": "2024-03-25T12:51:26.660514Z",
     "iopub.status.idle": "2024-03-25T12:51:26.673163Z",
     "shell.execute_reply": "2024-03-25T12:51:26.672383Z",
     "shell.execute_reply.started": "2024-03-25T12:51:26.661386Z"
    },
    "scrolled": true
   },
   "outputs": [],
   "source": [
    "def get_logits(data,model):\r\n",
    "    data=np.array(data).astype(np.float32)\r\n",
    "    img_np = np.array(data).astype(np.float32)\r\n",
    "    img_np=T.Transpose()(img_np)\r\n",
    "    img_np=T.Normalize(mean,std)(img_np)\r\n",
    "    m2 = img_np.reshape(1,3,64,64)\r\n",
    "    m2=paddle.to_tensor(m2,dtype='float32')\r\n",
    "    logits = model(m2)\r\n",
    "    return logits\r\n",
    "def get_indexsort(logits):\r\n",
    "    score = F.softmax(logits)\r\n",
    "    score = score[0].numpy()\r\n",
    "    score = sorted(score,reverse=True)\r\n",
    "    list1arg = list(np.argsort(logits))\r\n",
    "    list1arg = list(list1arg[0])\r\n",
    "    list1arg.reverse()\r\n",
    "    return list1arg\r\n",
    "def get_indexsort2(logits):\r\n",
    "    score = F.softmax(paddle.to_tensor(logits))\r\n",
    "    score = score.numpy()\r\n",
    "    score = sorted(score,reverse=True)\r\n",
    "    list1arg = list(np.argsort(logits))\r\n",
    "    list1arg = list(list1arg)\r\n",
    "    list1arg.reverse()\r\n",
    "    return list1arg"
   ]
  },
  {
   "cell_type": "code",
   "execution_count": 52,
   "id": "6f1e8e49-3f65-44d3-b192-7004afffb23f",
   "metadata": {
    "execution": {
     "iopub.execute_input": "2024-03-25T12:52:27.329282Z",
     "iopub.status.busy": "2024-03-25T12:52:27.327999Z",
     "iopub.status.idle": "2024-03-25T12:52:33.055912Z",
     "shell.execute_reply": "2024-03-25T12:52:33.053890Z",
     "shell.execute_reply.started": "2024-03-25T12:52:27.329233Z"
    },
    "scrolled": true,
    "tags": []
   },
   "outputs": [
    {
     "name": "stdout",
     "output_type": "stream",
     "text": [
      "[2.8835018443124634, 20.948506547093174, 19.704493039846707, 8.444034140817385, 16.396762437070343, 17.522117531455468, 15.88145415714204, 13.737922675348907, 7.109429427826007, 6.356490798557267, 10.82301785459126, 0.943381215047683, 12.750737868247626, 8.219082956281492, -0.6441854079868313, 10.338135790145254, 5.0213004921485345, 4.57000104358683, 15.835325449011558, 14.875676900980338, 49.369207384262765, 11.364653511000443, 9.205068576406573, 21.394086077504724, 5.879447604031863, 0.0038452970759399463, 3.776954607304325, 3.504239949990194, 9.866284787629352, 16.59718160535338, 2.7648272023251614, -1.8335406314905247, 17.1506589293965, 6.730394892200814, 14.929252970686507, 6.337155862614511, 4.073753697952851, -0.42576943589482596, 20.006357476439707, -0.8224418023457465, 8.8778236096723, 13.90842797552126, 13.903105314859145]\r\n"
     ]
    }
   ],
   "source": [
    "SC=[]\r\n",
    "for k in range(43):\r\n",
    "    sc=0\r\n",
    "    for i in range(11):\r\n",
    "        for j in range(64):\r\n",
    "            logitssum = []\r\n",
    "            logits3 = logits_list3[i][j]\r\n",
    "            logits3[logits3 == np.max(logits3)]=0\r\n",
    "            # logits3[logits3 == np.max(logits3)]=0\r\n",
    "            logits3 = F.softmax(paddle.to_tensor(logits3))\r\n",
    "            logits3=logits3.numpy()\r\n",
    "            energy = (np.exp(logits3[k]*2))/2\r\n",
    "            if energy>2:\r\n",
    "                energy = 2\r\n",
    "            sc = sc + energy-0.5\r\n",
    "            SC_poison.append(energy)\r\n",
    "    SC.append(sc)\r\n",
    "print(SC)"
   ]
  },
  {
   "cell_type": "code",
   "execution_count": 53,
   "id": "4ad893f9-33d9-4ff9-bffc-9362cd844bdb",
   "metadata": {
    "execution": {
     "iopub.execute_input": "2024-03-25T12:52:33.073474Z",
     "iopub.status.busy": "2024-03-25T12:52:33.072942Z",
     "iopub.status.idle": "2024-03-25T12:52:33.423027Z",
     "shell.execute_reply": "2024-03-25T12:52:33.421559Z",
     "shell.execute_reply.started": "2024-03-25T12:52:33.073446Z"
    },
    "scrolled": true
   },
   "outputs": [
    {
     "data": {
      "image/png": "[encoded data removed]",
      "text/plain": [
       "<Figure size 1200x300 with 1 Axes>"
      ]
     },
     "metadata": {},
     "output_type": "display_data"
    }
   ],
   "source": [
    "import matplotlib.pyplot as plt\r\n",
    "plt.figure(figsize=(12, 3))\r\n",
    "plt.bar(range(43), SC, label='poison scores')\r\n",
    "plt.show()"
   ]
  },
  {
   "cell_type": "code",
   "execution_count": 60,
   "id": "5e3a320a-2300-4bcd-8cc2-10974a6a7ca5",
   "metadata": {
    "execution": {
     "iopub.execute_input": "2024-03-25T12:56:48.422020Z",
     "iopub.status.busy": "2024-03-25T12:56:48.421183Z",
     "iopub.status.idle": "2024-03-25T12:56:48.426371Z",
     "shell.execute_reply": "2024-03-25T12:56:48.425518Z",
     "shell.execute_reply.started": "2024-03-25T12:56:48.421969Z"
    },
    "scrolled": true
   },
   "outputs": [],
   "source": [
    "name = ['gaussian_noise', 'shot_noise', 'impulse_noise', 'defocus_blur',\r\n",
    "'glass_blur', 'motion_blur', 'zoom_blur', 'snow', 'frost', 'fog',\r\n",
    "'brightness', 'contrast', 'elastic_transform', 'pixelate', 'jpeg_compression']"
   ]
  },
  {
   "cell_type": "code",
   "execution_count": 58,
   "id": "29251bdc-752f-43bd-99f5-2970d17ab3c7",
   "metadata": {
    "execution": {
     "iopub.execute_input": "2024-03-25T12:56:24.845363Z",
     "iopub.status.busy": "2024-03-25T12:56:24.844681Z",
     "iopub.status.idle": "2024-03-25T12:56:24.957358Z",
     "shell.execute_reply": "2024-03-25T12:56:24.956182Z",
     "shell.execute_reply.started": "2024-03-25T12:56:24.845325Z"
    },
    "scrolled": true
   },
   "outputs": [],
   "source": [
    "from imagecorruptions import corrupt\r\n",
    "def Cal_AllScore(data,model):\r\n",
    "    logits_list=[]\r\n",
    "    model.eval()\r\n",
    "    logits_s = get_logits(data,model)\r\n",
    "    logits_source = get_indexsort(logits_s)\r\n",
    "    print(logits_source)\r\n",
    "    allscore=[]\r\n",
    "    logits_s = logits_s[0]\r\n",
    "    logits_s = F.softmax(logits_s)\r\n",
    "    logits_s = logits_s.numpy()\r\n",
    "    for i in range(15):\r\n",
    "        for j in range(1,5):\r\n",
    "            data = np.array(data).astype(np.uint8)\r\n",
    "            corrupted_image = corrupt(data, corruption_name=name[i], severity=j)\r\n",
    "            logits = get_logits(corrupted_image,model)\r\n",
    "            print(get_indexsort(logits))\r\n",
    "            logits = F.softmax(logits)\r\n",
    "            # print(logits)\r\n",
    "            # print(get_indexsort(logits))\r\n",
    "            list1arg = logits\r\n",
    "            # print(logits.numpy()[0][38])\r\n",
    "            # score0.append(logits.numpy()[0][10])\r\n",
    "            # score1.append(logits.numpy()[0][41]/logits_s[41])\r\n",
    "            logits_list.append(list1arg)\r\n",
    "\r\n",
    "    for j in range(1,5):\r\n",
    "        data = np.array(data).astype(np.float32)\r\n",
    "        corrupted_image = data/j*1.0000\r\n",
    "        logits = get_logits(corrupted_image,model)\r\n",
    "        print(get_indexsort(logits))\r\n",
    "        logits = F.softmax(logits)\r\n",
    "        \r\n",
    "        list1arg = logits\r\n",
    "        logits_list.append(list1arg)\r\n",
    "\r\n",
    "    for k in range(43):\r\n",
    "        temp=0\r\n",
    "        for item in logits_list:\r\n",
    "            item = item[0]\r\n",
    "            item = item.numpy()\r\n",
    "            # print(item)\r\n",
    "            transfer = np.exp(item[k])/np.exp(logits_s[k])-1\r\n",
    "            # transfer = np.exp(item[k])-np.exp(logits_s[k])\r\n",
    "            # transfer = item[k]/logits_s[k]\r\n",
    "            if transfer > 5:\r\n",
    "                transfer = 5\r\n",
    "            # temp=temp+np.exp(44-item.index(k))-np.exp(43-logits_source.index(k))\r\n",
    "            temp = temp + transfer\r\n",
    "            transfer = 0\r\n",
    "        allscore.append(temp)\r\n",
    "    return allscore\r\n",
    "def Return_Label_Score(data,model):\r\n",
    "    logits_list=[]\r\n",
    "    SCORE=[]\r\n",
    "    model.eval()\r\n",
    "    logits_s = get_logits(data,model)\r\n",
    "    logits_source = get_indexsort(logits_s)\r\n",
    "    print(logits_source)\r\n",
    "    allscore=[]\r\n",
    "    logits_s = logits_s[0]\r\n",
    "    logits_s = F.softmax(logits_s)\r\n",
    "    logits_s = logits_s.numpy()\r\n",
    "    for i in range(15):\r\n",
    "        for j in range(1,5):\r\n",
    "            data = np.array(data).astype(np.uint8)\r\n",
    "            corrupted_image = corrupt(data, corruption_name=name[i], severity=j)\r\n",
    "            logits = get_logits(corrupted_image,model)\r\n",
    "            print(get_indexsort(logits))\r\n",
    "            logits = F.softmax(logits)\r\n",
    "            # print(logits)\r\n",
    "            # print(get_indexsort(logits))\r\n",
    "            list1arg = logits\r\n",
    "            # print(logits.numpy()[0][38])\r\n",
    "            # score0.append(logits.numpy()[0][10])\r\n",
    "            # score1.append(logits.numpy()[0][41]/logits_s[41])\r\n",
    "            logits_list.append(list1arg)\r\n",
    "\r\n",
    "    for j in range(1,5):\r\n",
    "        data = np.array(data).astype(np.float32)\r\n",
    "        corrupted_image = data/j*1.0000\r\n",
    "        logits = get_logits(corrupted_image,model)\r\n",
    "        print(get_indexsort(logits))\r\n",
    "        logits = F.softmax(logits)\r\n",
    "        \r\n",
    "        list1arg = logits\r\n",
    "        logits_list.append(list1arg)\r\n",
    "\r\n",
    "    for k in range(43):\r\n",
    "        temp=[]\r\n",
    "        for item in logits_list:\r\n",
    "            item = item[0]\r\n",
    "            item = item.numpy()\r\n",
    "            # print(item)\r\n",
    "            transfer = np.exp(item[k])/np.exp(logits_s[k])-1\r\n",
    "            # transfer = np.exp(item[k])-np.exp(logits_s[k])\r\n",
    "            # transfer = item[k]/logits_s[k]\r\n",
    "            if transfer > 5:\r\n",
    "                transfer = 5\r\n",
    "            # temp=temp+np.exp(44-item.index(k))-np.exp(43-logits_source.index(k))\r\n",
    "            temp.append(transfer)\r\n",
    "        allscore.append(temp)\r\n",
    "    return allscore\r\n",
    "def Cal_imageset(data):\r\n",
    "    img=[]\r\n",
    "    img.append(data)\r\n",
    "    for i in range(15):\r\n",
    "        for j in range(1,5):\r\n",
    "            data = np.array(data).astype(np.uint8)\r\n",
    "            corrupted_image = corrupt(data, corruption_name=name[i], severity=j)\r\n",
    "            # logits = get_logits(corrupted_image,model)\r\n",
    "            img.append(corrupted_image)\r\n",
    "    return img\r\n",
    "def Cal_imageset_am(data):\r\n",
    "    img=[]\r\n",
    "    img.append(data)\r\n",
    "    for i in range(2,11):\r\n",
    "        if i %2==0:\r\n",
    "        # for j in range(1,5):\r\n",
    "            corrupted_image = data*i\r\n",
    "            corrupted_image[corrupted_image>255]=255\r\n",
    "            # logits = get_logits(corrupted_image,model)\r\n",
    "            img.append(corrupted_image)\r\n",
    "    return img\r\n",
    "def Cal_logits(img,model):\r\n",
    "    model.eval()\r\n",
    "    logits_list = []\r\n",
    "    idd = []\r\n",
    "    for corrupted_image in img:\r\n",
    "        logits = get_logits(corrupted_image,model)\r\n",
    "        logits = F.softmax(logits)\r\n",
    "        # sort = get_indexsort(logits)\r\n",
    " \r\n",
    "        list1arg = logits.numpy()\r\n",
    "        logits_list.append(list1arg[0])\r\n",
    "    return logits_list\r\n",
    "def Cal_Score(item,logits_set):\r\n",
    "    allscore = []\r\n",
    "    for k in range(43):\r\n",
    "        temp=0\r\n",
    "        for duibi in logits_set:\r\n",
    "            # print(item)\r\n",
    "      \r\n",
    "            transfer = np.exp(duibi[k])/np.exp(item[k])-1\r\n",
    "            # transfer = np.exp(duibi[k])-np.exp(item[k])\r\n",
    "            # transfer = item[k]/logits_s[k]\r\n",
    "  \r\n",
    "            if transfer > 4:\r\n",
    "                transfer = 4\r\n",
    "            # temp=temp+np.exp(44-item.index(k))-np.exp(43-logits_source.index(k))\r\n",
    "            temp = temp + transfer\r\n",
    "            transfer = 0\r\n",
    "        allscore.append(temp)\r\n",
    "    return allscore"
   ]
  },
  {
   "cell_type": "code",
   "execution_count": 62,
   "id": "dacdf4e0-a3aa-4a14-ad73-b352bbfbe9b6",
   "metadata": {
    "execution": {
     "iopub.execute_input": "2024-03-25T12:57:34.656435Z",
     "iopub.status.busy": "2024-03-25T12:57:34.655826Z",
     "iopub.status.idle": "2024-03-25T12:57:36.775363Z",
     "shell.execute_reply": "2024-03-25T12:57:36.774344Z",
     "shell.execute_reply.started": "2024-03-25T12:57:34.656391Z"
    },
    "scrolled": true
   },
   "outputs": [
    {
     "name": "stdout",
     "output_type": "stream",
     "text": [
      "[20, 34, 41, 23, 32, 15, 29, 4, 1, 12, 0, 40, 9, 28, 7, 33, 18, 11, 38, 5, 35, 2, 21, 3, 27, 22, 10, 13, 6, 19, 36, 42, 37, 26, 8, 17, 39, 25, 16, 31, 14, 30, 24]\r\n",
      "[20, 34, 41, 23, 32, 15, 29, 4, 1, 12, 40, 0, 28, 9, 18, 38, 33, 11, 7, 35, 5, 21, 3, 2, 27, 13, 22, 10, 6, 36, 42, 19, 37, 26, 8, 39, 17, 25, 16, 31, 30, 14, 24]\r\n",
      "[20, 34, 41, 23, 32, 29, 15, 1, 12, 4, 0, 40, 38, 9, 28, 18, 35, 11, 33, 3, 7, 2, 27, 21, 13, 5, 10, 22, 6, 19, 42, 36, 37, 8, 26, 39, 17, 25, 16, 31, 14, 30, 24]\r\n",
      "[20, 34, 23, 41, 29, 32, 1, 12, 38, 0, 4, 35, 15, 40, 28, 9, 11, 27, 18, 3, 13, 33, 2, 5, 10, 21, 7, 42, 8, 22, 19, 36, 37, 39, 16, 26, 6, 25, 17, 31, 14, 30, 24]\r\n",
      "[20, 34, 41, 23, 32, 29, 12, 15, 4, 40, 1, 35, 38, 0, 28, 9, 18, 33, 11, 3, 7, 13, 5, 21, 27, 2, 22, 10, 6, 36, 19, 42, 39, 37, 26, 8, 16, 17, 25, 31, 14, 30, 24]\r\n",
      "[20, 34, 41, 23, 32, 15, 29, 4, 1, 12, 40, 0, 9, 28, 7, 33, 18, 38, 11, 5, 35, 21, 2, 3, 27, 13, 22, 6, 10, 42, 19, 36, 37, 26, 8, 17, 39, 25, 16, 31, 14, 24, 30]\r\n",
      "[20, 34, 41, 32, 15, 23, 29, 4, 1, 12, 40, 0, 28, 18, 9, 33, 7, 11, 5, 38, 35, 3, 21, 2, 27, 22, 10, 6, 13, 19, 36, 42, 37, 17, 26, 25, 8, 39, 16, 31, 14, 30, 24]\r\n",
      "[20, 34, 41, 32, 23, 15, 29, 4, 12, 40, 1, 28, 18, 0, 38, 9, 33, 35, 11, 7, 5, 3, 2, 27, 21, 13, 22, 10, 6, 36, 42, 19, 37, 39, 26, 25, 17, 8, 16, 31, 14, 24, 30]\r\n",
      "[20, 41, 34, 32, 23, 15, 29, 4, 40, 12, 1, 28, 18, 33, 9, 7, 11, 5, 38, 0, 35, 2, 27, 21, 3, 6, 22, 10, 13, 36, 37, 42, 19, 39, 26, 17, 25, 16, 8, 24, 31, 14, 30]\r\n",
      "[20, 34, 41, 23, 32, 15, 29, 4, 1, 12, 0, 40, 28, 9, 18, 7, 33, 11, 38, 5, 35, 21, 3, 2, 27, 10, 22, 13, 6, 19, 36, 42, 26, 37, 17, 8, 39, 25, 16, 31, 14, 30, 24]\r\n",
      "[20, 34, 41, 23, 32, 15, 29, 4, 12, 1, 40, 0, 28, 9, 18, 38, 33, 35, 7, 11, 3, 5, 2, 27, 21, 13, 22, 10, 6, 19, 36, 42, 37, 8, 39, 26, 25, 17, 16, 31, 14, 24, 30]\r\n",
      "[20, 34, 41, 23, 32, 29, 12, 15, 40, 1, 4, 38, 0, 35, 28, 9, 18, 11, 33, 27, 3, 7, 5, 13, 2, 21, 10, 22, 42, 6, 36, 19, 37, 39, 8, 26, 16, 25, 17, 31, 14, 30, 24]\r\n",
      "[20, 0, 34, 41, 23, 38, 1, 29, 12, 13, 32, 35, 40, 27, 4, 18, 9, 8, 28, 11, 5, 21, 42, 3, 39, 10, 19, 33, 2, 37, 15, 26, 36, 16, 31, 22, 25, 6, 30, 17, 14, 7, 24]\r\n",
      "[0, 1, 41, 34, 29, 8, 20, 21, 9, 31, 5, 13, 42, 19, 38, 23, 15, 35, 22, 26, 32, 6, 12, 10, 11, 33, 39, 17, 40, 28, 36, 18, 16, 4, 30, 2, 7, 3, 25, 27, 37, 14, 24]\r\n",
      "[0, 1, 34, 41, 20, 38, 8, 12, 29, 5, 9, 39, 21, 35, 26, 31, 40, 23, 4, 6, 19, 22, 32, 25, 42, 13, 7, 10, 33, 15, 17, 2, 36, 11, 28, 30, 3, 16, 27, 18, 37, 14, 24]\r\n",
      "[1, 0, 12, 20, 35, 26, 7, 34, 41, 4, 5, 38, 32, 8, 39, 29, 25, 36, 23, 42, 9, 22, 30, 21, 14, 40, 6, 19, 31, 33, 15, 10, 3, 27, 28, 16, 17, 2, 37, 11, 18, 13, 24]\r\n",
      "[1, 35, 12, 0, 26, 20, 7, 32, 36, 5, 29, 42, 30, 38, 4, 8, 41, 23, 39, 22, 34, 25, 19, 31, 10, 15, 16, 21, 33, 40, 14, 27, 9, 28, 3, 6, 17, 11, 13, 37, 18, 2, 24]\r\n",
      "[0, 34, 41, 1, 29, 31, 21, 8, 13, 20, 19, 5, 9, 10, 15, 42, 38, 35, 23, 32, 33, 11, 6, 18, 22, 12, 36, 17, 26, 16, 28, 30, 39, 40, 4, 2, 3, 27, 37, 25, 7, 24, 14]\r\n",
      "[0, 1, 41, 34, 29, 20, 21, 8, 31, 9, 13, 5, 42, 35, 32, 15, 19, 23, 26, 12, 10, 22, 6, 33, 38, 36, 39, 11, 17, 40, 28, 4, 16, 18, 30, 3, 2, 7, 25, 37, 27, 24, 14]\r\n",
      "[0, 1, 34, 8, 31, 29, 35, 41, 38, 5, 13, 19, 21, 20, 10, 39, 33, 9, 12, 36, 42, 15, 32, 26, 11, 40, 17, 30, 22, 18, 16, 4, 27, 23, 3, 28, 2, 6, 37, 25, 7, 14, 24]\r\n",
      "[1, 38, 12, 0, 35, 20, 34, 29, 4, 5, 39, 30, 25, 27, 8, 14, 37, 23, 3, 18, 31, 2, 19, 17, 36, 10, 33, 7, 13, 32, 21, 26, 16, 40, 11, 22, 41, 42, 28, 9, 15, 6, 24]\r\n",
      "[0, 34, 41, 1, 29, 8, 31, 20, 13, 9, 5, 19, 21, 38, 15, 42, 23, 35, 12, 33, 10, 11, 32, 28, 40, 18, 6, 26, 22, 4, 36, 30, 17, 2, 16, 39, 27, 3, 25, 37, 7, 14, 24]\r\n",
      "[1, 0, 12, 41, 20, 34, 5, 4, 29, 9, 38, 23, 35, 25, 32, 6, 26, 33, 40, 42, 21, 7, 28, 27, 8, 14, 15, 19, 31, 22, 18, 2, 13, 30, 3, 17, 39, 11, 36, 16, 10, 37, 24]\r\n",
      "[1, 41, 0, 12, 9, 20, 23, 4, 34, 5, 38, 40, 25, 29, 6, 26, 35, 28, 32, 15, 19, 14, 7, 2, 33, 42, 39, 22, 31, 8, 21, 13, 27, 30, 36, 18, 3, 11, 16, 17, 37, 24, 10]\r\n",
      "[1, 12, 23, 41, 20, 38, 5, 25, 0, 6, 4, 9, 7, 34, 40, 26, 29, 15, 2, 22, 32, 14, 28, 33, 27, 35, 18, 39, 42, 30, 19, 21, 37, 16, 36, 13, 17, 24, 31, 8, 3, 11, 10]\r\n",
      "[0, 20, 41, 34, 29, 1, 8, 13, 38, 23, 31, 21, 35, 19, 32, 10, 9, 15, 11, 42, 12, 18, 5, 33, 26, 39, 28, 22, 4, 40, 6, 36, 16, 30, 3, 17, 37, 2, 27, 25, 7, 24, 14]\r\n",
      "[0, 41, 34, 29, 20, 1, 31, 13, 8, 21, 19, 38, 10, 23, 15, 35, 32, 42, 9, 5, 26, 6, 22, 18, 11, 33, 36, 17, 12, 30, 39, 28, 16, 40, 4, 2, 3, 37, 27, 7, 25, 24, 14]\r\n",
      "[0, 20, 41, 34, 29, 13, 38, 1, 8, 31, 19, 21, 10, 23, 15, 32, 35, 9, 26, 42, 18, 22, 11, 5, 6, 33, 39, 12, 30, 36, 17, 28, 40, 4, 16, 3, 2, 37, 27, 7, 25, 24, 14]\r\n",
      "[0, 41, 34, 29, 20, 13, 31, 1, 19, 38, 8, 10, 21, 15, 23, 32, 35, 26, 9, 42, 18, 5, 22, 6, 33, 11, 30, 39, 36, 17, 12, 28, 4, 40, 16, 2, 3, 37, 27, 7, 25, 24, 14]\r\n",
      "[20, 34, 41, 23, 29, 32, 15, 1, 12, 4, 40, 0, 38, 35, 9, 18, 28, 7, 11, 33, 3, 5, 21, 2, 10, 27, 13, 22, 6, 19, 36, 42, 26, 37, 39, 8, 17, 25, 16, 31, 14, 30, 24]\r\n",
      "[20, 34, 41, 23, 32, 29, 1, 12, 15, 0, 4, 38, 40, 9, 18, 35, 3, 28, 13, 11, 33, 21, 10, 2, 7, 27, 5, 22, 19, 6, 42, 37, 36, 39, 26, 16, 17, 8, 25, 31, 14, 30, 24]\r\n",
      "[0, 34, 20, 41, 29, 1, 13, 31, 8, 21, 10, 9, 19, 38, 32, 35, 11, 23, 15, 42, 5, 18, 33, 17, 22, 6, 16, 36, 26, 28, 12, 40, 3, 39, 30, 2, 4, 27, 37, 25, 14, 7, 24]\r\n",
      "[20, 23, 41, 34, 32, 29, 12, 1, 4, 15, 38, 40, 0, 35, 18, 28, 3, 7, 27, 11, 2, 5, 9, 33, 22, 21, 13, 19, 10, 42, 6, 36, 16, 37, 26, 17, 39, 25, 8, 14, 31, 24, 30]\r\n",
      "[20, 0, 41, 34, 29, 1, 23, 38, 12, 32, 13, 9, 35, 21, 15, 40, 8, 42, 4, 19, 28, 11, 26, 3, 5, 18, 33, 10, 31, 22, 39, 27, 2, 36, 16, 6, 37, 17, 30, 7, 25, 14, 24]\r\n",
      "[20, 0, 34, 41, 1, 29, 23, 13, 38, 9, 12, 35, 32, 21, 8, 15, 19, 40, 11, 42, 10, 26, 3, 31, 28, 5, 4, 18, 33, 39, 27, 22, 2, 16, 6, 36, 17, 37, 30, 25, 7, 14, 24]\r\n",
      "[1, 0, 20, 38, 8, 10, 21, 23, 34, 3, 29, 35, 18, 39, 32, 31, 5, 13, 12, 26, 41, 6, 16, 17, 30, 9, 22, 4, 42, 19, 2, 36, 25, 11, 27, 28, 37, 40, 15, 14, 7, 24, 33]\r\n",
      "[0, 1, 41, 34, 9, 29, 5, 20, 13, 21, 23, 31, 15, 19, 6, 26, 32, 42, 8, 35, 10, 12, 33, 28, 18, 22, 38, 11, 17, 36, 30, 16, 4, 40, 3, 39, 2, 25, 7, 27, 37, 14, 24]\r\n",
      "[0, 1, 34, 8, 41, 38, 20, 29, 10, 21, 35, 31, 26, 39, 32, 13, 23, 5, 9, 19, 12, 6, 40, 22, 17, 42, 30, 4, 15, 36, 18, 3, 16, 11, 33, 28, 25, 2, 7, 37, 27, 14, 24]\r\n",
      "[20, 34, 41, 23, 32, 29, 1, 12, 15, 0, 4, 40, 9, 5, 38, 35, 18, 7, 11, 33, 28, 3, 2, 13, 27, 21, 42, 19, 22, 6, 36, 10, 26, 39, 8, 25, 37, 16, 17, 31, 14, 24, 30]\r\n",
      "[20, 0, 34, 29, 1, 23, 41, 12, 32, 38, 4, 3, 35, 13, 11, 15, 9, 28, 19, 18, 42, 5, 8, 27, 21, 2, 10, 26, 22, 40, 25, 33, 7, 36, 16, 39, 31, 6, 17, 14, 30, 37, 24]\r\n",
      "[20, 23, 34, 41, 1, 32, 12, 29, 38, 0, 35, 3, 13, 4, 15, 9, 40, 18, 27, 21, 19, 33, 11, 28, 39, 10, 5, 2, 26, 22, 25, 36, 16, 7, 42, 37, 17, 8, 14, 6, 30, 31, 24]\r\n",
      "[20, 34, 41, 23, 29, 32, 15, 1, 12, 0, 4, 40, 38, 9, 35, 18, 28, 11, 33, 7, 5, 3, 2, 27, 21, 13, 22, 10, 6, 19, 42, 36, 8, 37, 26, 39, 17, 25, 16, 31, 14, 30, 24]\r\n",
      "[20, 34, 41, 23, 29, 0, 1, 12, 32, 38, 15, 4, 40, 35, 9, 13, 11, 18, 3, 28, 27, 5, 33, 21, 2, 7, 19, 42, 10, 22, 8, 6, 36, 26, 37, 16, 25, 39, 17, 31, 14, 30, 24]\r\n",
      "[20, 0, 41, 34, 1, 29, 23, 12, 38, 32, 9, 13, 35, 15, 4, 40, 21, 42, 11, 3, 19, 8, 28, 5, 18, 27, 2, 33, 10, 22, 26, 36, 31, 16, 7, 6, 39, 37, 25, 17, 30, 14, 24]\r\n",
      "[0, 20, 41, 1, 34, 29, 12, 23, 9, 21, 8, 38, 42, 35, 13, 5, 32, 31, 19, 15, 26, 11, 40, 22, 6, 28, 4, 33, 10, 17, 18, 36, 16, 3, 39, 27, 2, 30, 25, 7, 37, 14, 24]\r\n",
      "[20, 0, 41, 1, 34, 29, 23, 12, 38, 13, 21, 32, 35, 9, 15, 42, 8, 19, 26, 11, 5, 31, 4, 22, 39, 28, 10, 3, 40, 18, 33, 6, 36, 16, 30, 17, 2, 27, 25, 37, 7, 14, 24]\r\n",
      "[0, 1, 41, 34, 20, 29, 9, 21, 5, 23, 31, 15, 26, 13, 19, 42, 32, 35, 8, 12, 6, 22, 38, 10, 28, 33, 11, 39, 17, 4, 30, 36, 18, 16, 40, 25, 3, 7, 2, 27, 14, 37, 24]\r\n",
      "[0, 1, 41, 34, 20, 9, 29, 5, 26, 12, 23, 32, 21, 15, 35, 19, 13, 42, 31, 22, 6, 8, 33, 28, 38, 10, 25, 39, 4, 30, 11, 17, 16, 7, 36, 18, 40, 3, 2, 14, 27, 37, 24]\r\n",
      "[1, 0, 34, 41, 12, 20, 9, 32, 25, 5, 26, 29, 35, 23, 30, 4, 15, 6, 38, 21, 22, 19, 10, 13, 14, 42, 33, 39, 28, 3, 7, 31, 18, 16, 11, 17, 36, 40, 8, 2, 27, 37, 24]\r\n",
      "[20, 34, 41, 23, 1, 12, 32, 29, 0, 4, 35, 40, 38, 15, 9, 27, 11, 28, 33, 13, 3, 5, 18, 7, 21, 2, 42, 22, 10, 36, 19, 8, 26, 37, 39, 6, 17, 25, 31, 16, 30, 14, 24]\r\n",
      "[0, 1, 41, 35, 20, 34, 29, 8, 31, 12, 21, 38, 9, 13, 5, 39, 26, 32, 23, 40, 42, 19, 10, 36, 33, 6, 4, 15, 17, 22, 30, 28, 11, 16, 18, 37, 3, 27, 25, 2, 14, 7, 24]\r\n",
      "[0, 38, 34, 12, 1, 29, 35, 13, 41, 18, 5, 20, 31, 30, 33, 21, 27, 23, 19, 39, 40, 42, 8, 10, 17, 16, 37, 36, 11, 9, 22, 26, 32, 15, 4, 6, 28, 3, 25, 2, 14, 24, 7]\r\n",
      "[1, 0, 35, 12, 38, 29, 20, 5, 40, 4, 37, 34, 8, 30, 36, 31, 41, 23, 27, 13, 39, 26, 21, 42, 28, 3, 32, 17, 33, 16, 14, 19, 18, 9, 6, 10, 22, 25, 2, 11, 24, 7, 15]\r\n",
      "[20, 34, 41, 23, 32, 29, 15, 1, 0, 12, 4, 40, 38, 9, 35, 11, 28, 18, 33, 7, 27, 13, 3, 2, 5, 21, 22, 10, 42, 19, 6, 8, 36, 37, 26, 39, 25, 16, 17, 31, 14, 30, 24]\r\n",
      "[0, 41, 34, 29, 8, 1, 20, 13, 31, 21, 5, 9, 42, 19, 15, 23, 38, 10, 11, 35, 32, 33, 18, 6, 36, 22, 26, 28, 12, 30, 17, 40, 16, 39, 4, 2, 3, 27, 37, 7, 25, 24, 14]\r\n",
      "[20, 34, 41, 23, 0, 1, 29, 12, 32, 38, 35, 4, 15, 40, 9, 18, 3, 13, 11, 28, 27, 33, 19, 5, 2, 10, 21, 42, 22, 37, 8, 7, 36, 26, 39, 6, 16, 25, 17, 31, 14, 30, 24]\r\n",
      "[0, 1, 41, 8, 29, 34, 21, 20, 31, 38, 13, 5, 35, 10, 9, 23, 26, 42, 19, 32, 22, 6, 15, 39, 12, 36, 16, 17, 30, 18, 11, 33, 4, 40, 28, 3, 7, 25, 2, 37, 27, 24, 14]\r\n",
      "[20, 34, 41, 23, 32, 29, 15, 1, 0, 12, 4, 40, 38, 9, 11, 18, 35, 28, 33, 3, 13, 7, 2, 27, 5, 21, 10, 22, 19, 6, 42, 8, 36, 37, 39, 26, 25, 17, 16, 31, 14, 30, 24]\r\n",
      "[20, 34, 41, 23, 32, 29, 15, 1, 0, 12, 4, 40, 9, 18, 38, 28, 33, 11, 35, 7, 3, 21, 5, 2, 13, 27, 10, 22, 6, 19, 42, 36, 37, 8, 26, 17, 25, 39, 16, 31, 14, 30, 24]\r\n",
      "[20, 34, 41, 23, 0, 29, 32, 1, 12, 15, 38, 9, 4, 35, 11, 40, 13, 18, 28, 3, 21, 27, 33, 2, 8, 5, 10, 19, 22, 7, 42, 37, 39, 36, 6, 16, 26, 25, 17, 31, 14, 30, 24]\r\n",
      "[20, 34, 41, 23, 29, 0, 32, 1, 12, 15, 38, 4, 35, 40, 9, 13, 11, 28, 18, 3, 27, 33, 21, 2, 5, 19, 10, 8, 7, 22, 42, 37, 36, 6, 39, 26, 16, 25, 17, 31, 14, 30, 24]\r\n",
      "[20, 34, 41, 23, 32, 15, 29, 4, 1, 12, 0, 40, 9, 28, 7, 33, 18, 11, 38, 5, 35, 2, 21, 3, 27, 22, 10, 13, 6, 19, 36, 42, 37, 26, 8, 17, 39, 25, 16, 31, 14, 30, 24]\r\n",
      "[20, 41, 34, 23, 32, 15, 29, 4, 1, 40, 12, 0, 9, 28, 38, 7, 33, 18, 11, 35, 2, 5, 3, 21, 22, 27, 13, 10, 6, 19, 42, 8, 36, 26, 37, 39, 25, 17, 16, 31, 14, 24, 30]\r\n",
      "[20, 41, 34, 23, 32, 15, 29, 40, 1, 4, 12, 9, 38, 0, 7, 28, 33, 18, 2, 11, 35, 3, 21, 5, 22, 13, 27, 10, 6, 19, 42, 8, 39, 26, 36, 37, 25, 17, 16, 31, 24, 14, 30]\r\n",
      "[20, 41, 34, 23, 32, 29, 15, 40, 1, 4, 12, 9, 38, 7, 0, 33, 28, 2, 18, 35, 11, 22, 13, 21, 27, 3, 5, 10, 6, 39, 8, 42, 19, 26, 37, 36, 25, 17, 16, 31, 24, 14, 30]\r\n"
     ]
    }
   ],
   "source": [
    "data,target = val_dataset[i]\r\n",
    "data = np.array(data).reshape(64, 64,3)\r\n",
    "pat_size = 4\r\n",
    "data[64-1-pat_size:64-1,64-1-pat_size:64-1,:] = 0\r\n",
    "logits_s0 = get_logits(data,model)\r\n",
    "logits_source0 = get_indexsort(logits_s0)\r\n",
    "allscore=Cal_AllScore(data,model)"
   ]
  },
  {
   "cell_type": "code",
   "execution_count": 63,
   "id": "322faade-3a89-4559-87ce-1761126cf030",
   "metadata": {
    "execution": {
     "iopub.execute_input": "2024-03-25T12:57:39.071976Z",
     "iopub.status.busy": "2024-03-25T12:57:39.071156Z",
     "iopub.status.idle": "2024-03-25T12:57:39.077407Z",
     "shell.execute_reply": "2024-03-25T12:57:39.076601Z",
     "shell.execute_reply.started": "2024-03-25T12:57:39.071924Z"
    },
    "scrolled": true
   },
   "outputs": [],
   "source": [
    "SC2=[]\r\n",
    "SC3 = []\r\n",
    "for i in range(43):\r\n",
    "    SC2.append(0)\r\n",
    "    SC3.append(0)\r\n",
    "SC2[target[0]]=allscore[target[0]]\r\n",
    "SC3[20]=allscore[20]\r\n",
    "allscore[target[0]]=0\r\n",
    "allscore[20]=0"
   ]
  },
  {
   "cell_type": "code",
   "execution_count": 64,
   "id": "d277ba95-a71d-4341-83e1-31976b561b88",
   "metadata": {
    "execution": {
     "iopub.execute_input": "2024-03-25T12:57:44.233768Z",
     "iopub.status.busy": "2024-03-25T12:57:44.232695Z",
     "iopub.status.idle": "2024-03-25T12:57:44.828774Z",
     "shell.execute_reply": "2024-03-25T12:57:44.827947Z",
     "shell.execute_reply.started": "2024-03-25T12:57:44.233726Z"
    },
    "scrolled": true
   },
   "outputs": [
    {
     "name": "stderr",
     "output_type": "stream",
     "text": [
      "/opt/conda/envs/python35-paddle120-env/lib/python3.7/site-packages/matplotlib/font_manager.py:1331: UserWarning: findfont: Font family ['Times New Roman'] not found. Falling back to DejaVu Sans\r\n",
      "  (prop.get_family(), self.defaultFamily[fontext]))\r\n"
     ]
    },
    {
     "data": {
      "image/png": "[encoded data removed]",
      "text/plain": [
       "<Figure size 1200x300 with 1 Axes>"
      ]
     },
     "metadata": {},
     "output_type": "display_data"
    }
   ],
   "source": [
    "plt.figure(figsize=(12, 3))\r\n",
    "plt.bar(range(43), allscore, label='sum of energy scores from other labels')\r\n",
    "plt.bar(range(43), SC2, label='sum of energy scores from original clean label',color = 'green')\r\n",
    "plt.bar(range(43), SC3, label='sum of energy scores from poisoned target label',color = 'red')\r\n",
    "plt.xlabel('Labels', fontproperties='Times New Roman')\r\n",
    "plt.ylabel('Sum of energy scores', fontproperties='Times New Roman')\r\n",
    "plt.legend()\r\n",
    "plt.show()"
   ]
  },
  {
   "cell_type": "code",
   "execution_count": null,
   "id": "01d0adb9-2ced-43fc-936e-953d0a51b686",
   "metadata": {
    "scrolled": true
   },
   "outputs": [],
   "source": []
  }
 ],
 "metadata": {
  "kernelspec": {
   "display_name": "Python 3",
   "language": "python",
   "name": "py35-paddle1.2.0"
  },
  "language_info": {
   "codemirror_mode": {
    "name": "ipython",
    "version": 3
   },
   "file_extension": ".py",
   "mimetype": "text/x-python",
   "name": "python",
   "nbconvert_exporter": "python",
   "pygments_lexer": "ipython3",
   "version": "3.7.4"
  }
 },
 "nbformat": 4,
 "nbformat_minor": 5
}
